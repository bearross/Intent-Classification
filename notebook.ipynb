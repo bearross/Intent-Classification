{
 "cells": [
  {
   "cell_type": "code",
   "execution_count": null,
   "metadata": {},
   "outputs": [],
   "source": [
    "# !pip install --upgrade openai\n",
    "# !pip install --upgrade langchain\n",
    "# !pip install --upgrade python-dotenv"
   ]
  },
  {
   "cell_type": "code",
   "execution_count": 1,
   "metadata": {},
   "outputs": [],
   "source": [
    "import openai\n",
    "import os\n",
    "\n",
    "from dotenv import load_dotenv, find_dotenv\n",
    "_ = load_dotenv(find_dotenv()) # read local .env file\n",
    "\n",
    "openai.api_key  = os.getenv('OPENAI_API_KEY')"
   ]
  },
  {
   "cell_type": "code",
   "execution_count": 2,
   "metadata": {},
   "outputs": [],
   "source": [
    "from langchain.chat_models import ChatOpenAI\n",
    "from langchain.prompts.chat import (\n",
    "    ChatPromptTemplate,\n",
    "    SystemMessagePromptTemplate,\n",
    "    AIMessagePromptTemplate,\n",
    "    HumanMessagePromptTemplate,\n",
    ")\n",
    "\n",
    "from langchain.output_parsers import ResponseSchema\n",
    "from langchain.output_parsers import StructuredOutputParser"
   ]
  },
  {
   "cell_type": "code",
   "execution_count": 3,
   "metadata": {},
   "outputs": [],
   "source": [
    "possible_intents = [\n",
    "    \"CreateObject\",\n",
    "    \"List\",\n",
    "    \"Report\",\n",
    "    \"ReviewObject\",\n",
    "    \"Workflow\"\n",
    "]"
   ]
  },
  {
   "cell_type": "code",
   "execution_count": 4,
   "metadata": {},
   "outputs": [],
   "source": [
    "possible_objects = [\n",
    "    \"Bank account\",\n",
    "    \"Bank reconciliation\",\n",
    "    \"Contact\",\n",
    "    \"Customer\",\n",
    "    \"Entry\",\n",
    "    \"Journal\",\n",
    "    \"Maintenance\",\n",
    "    \"Owner\",\n",
    "    \"Payable\",\n",
    "    \"Property\",\n",
    "    \"Prospect\",\n",
    "    \"Accounts Receivable\",\n",
    "    \"Tenant\",\n",
    "    \"Units\",\n",
    "    \"Vendor\",\n",
    "]"
   ]
  },
  {
   "cell_type": "code",
   "execution_count": 5,
   "metadata": {},
   "outputs": [
    {
     "data": {
      "text/plain": [
       "(5, 15)"
      ]
     },
     "execution_count": 5,
     "metadata": {},
     "output_type": "execute_result"
    }
   ],
   "source": [
    "len(possible_intents), len(possible_objects)"
   ]
  },
  {
   "cell_type": "code",
   "execution_count": 6,
   "metadata": {},
   "outputs": [],
   "source": [
    "intent_schema = ResponseSchema(\n",
    "    name=\"FirstOrderIntent\",\n",
    "    description=\"The firstOrder intent of the real-state statement\"\n",
    ")\n",
    "object_schema = ResponseSchema(\n",
    "    name=\"SecondOrderIntent\",\n",
    "    description=\"The secondOrder intent of the real-state statement\"\n",
    ")\n",
    "\n",
    "entities_schema = ResponseSchema(\n",
    "    name=\"Entities\",\n",
    "    description=\"List of all entities in the real-estate statement. Separate each entity by comma.\"\n",
    ")\n",
    "response_schemas = [intent_schema, object_schema, entities_schema]"
   ]
  },
  {
   "cell_type": "code",
   "execution_count": 7,
   "metadata": {},
   "outputs": [],
   "source": [
    "output_parser = StructuredOutputParser.from_response_schemas(response_schemas)\n",
    "format_instructions = output_parser.get_format_instructions()"
   ]
  },
  {
   "cell_type": "code",
   "execution_count": 8,
   "metadata": {},
   "outputs": [],
   "source": [
    "template_string = \"\"\"You are a helpful real-state assistant that can detect the firstOrder intent, secondOrder intent \\\n",
    "and entities from the statement that is delimited by triple backticks. \n",
    "\n",
    "Classify the most appropriate firstOrder intent from the following list of 5 firstOrder intents: [{possible_intents}].\n",
    "\n",
    "And classify the most appropriate secondOrder intent from the following list of 15 secondOrder objects: [{possible_objects}].\n",
    "\n",
    "Finally, List all the entities from the same statement. Entities takes on multiple values where values are exact word/words\\\n",
    "form the statement.\n",
    "\n",
    "{format_instructions}\n",
    "\n",
    "Here are few sample input and output for your reference:\n",
    "1. \"Run a AR report for Cityview towers as of today\",\n",
    "\t\"FirstOrderIntent\": \"Report\",\n",
    "\t\"SecondOrderIntent\": \"Accounts Receivable\",\n",
    "    \"Entities\": \"Cityview towers, today\"\n",
    "\n",
    "2. \"List all customers in New York City\"\n",
    "\t\"FirstOrderIntent\": \"List\",\n",
    "\t\"SecondOrderIntent\": \"Customer\",\n",
    "    \"Entities\": \"New York City\"\n",
    "\n",
    "3. \"What is Michael Smiths current rent\"\n",
    "\t\"FirstOrderIntent\": \"ReviewObject\",\n",
    "\t\"SecondOrderIntent\": \"Tenant\",\n",
    "    \"Entities\": \"Michael Smith, rent\"\n",
    "\n",
    "4. \"What are the available units in Avella Village?\"\n",
    "\t\"FirstOrderIntent\": \"List\",\n",
    "\t\"SecondOrderIntent\": \"Units\",\n",
    "    \"Entities\": \"Avella Village\"\n",
    "\n",
    "5. \"Leaking toilet unit 101 in Boardwalk by Windsor\"\n",
    "\t\"FirstOrderIntent\": \"Workflow\",\n",
    "\t\"SecondOrderIntent\": \"Maintenance\",\n",
    "    \"Entities\": \"Leaking toilet, Unit 101, Boardwalk by Windsor\"\n",
    "    \n",
    "6. \"Create a new contact entry for a potential buyer interested in Property XYZ.\"\n",
    "\t\"FirstOrderIntent\": \"CreateObject\",\n",
    "\t\"SecondOrderIntent\": \"Contact\",\n",
    "    \"Entities\": \"entry, buyer, Property XYZ\"\n",
    "\n",
    "7. \"Create a new customer entry for Property ABC.\"\n",
    "\t\"FirstOrderIntent\": \"CreateObject\",\n",
    "\t\"SecondOrderIntent\": \"Customer\",\n",
    "    \"Entities\": \"entry, Property ABC\"\n",
    "\n",
    "8. \"Create a new journal entry for property management fees incurred in Building A.\"\n",
    "\t\"FirstOrderIntent\": \"CreateObject\",\n",
    "\t\"SecondOrderIntent\": \"Entry\",\n",
    "    \"Entities\": \"management fees, building A\"\n",
    "\n",
    "9. \"Run a bank account report for Property XYZ as of today.\"\n",
    "\t\"FirstOrderIntent\": \"Report\",\n",
    "\t\"SecondOrderIntent\": \"Bank account\",\n",
    "    \"Entities\": \"Property XYZ, today\"\n",
    "\n",
    "10. \"Run a bank reconciliation report for City Heights Apartments as of today.\"\n",
    "\t\"FirstOrderIntent\": \"Report\",\n",
    "\t\"SecondOrderIntent\": \"Bank reconciliation\",\n",
    "    \"Entities\": \"City Heights Apartments, today\"\n",
    "\n",
    "11. \"Review the maintenance log for Property ABC to assess the repair history.\"\n",
    "\t\"FirstOrderIntent\": \"ReviewObject\",\n",
    "\t\"SecondOrderIntent\": \"Maintenance\",\n",
    "    \"Entities\": \"property ABC, assess, repair history\"\n",
    "    \n",
    "12. \"Review the contact details and preferences of a potential prospect for Property ABC.\"\n",
    "\t\"FirstOrderIntent\": \"ReviewObject\",\n",
    "\t\"SecondOrderIntent\": \"Prospect\",\n",
    "    \"Entities\": \"contact, preferences, property ABC\" \n",
    "\n",
    "13. \"Review the contact details for the vendor of Cityview towers.\"\n",
    "\t\"FirstOrderIntent\": \"ReviewObject\",\n",
    "\t\"SecondOrderIntent\": \"Vendor\",\n",
    "    \"Entities\": \"contact, Cityview towers\"\n",
    "\n",
    "14. \"Initiate a bank account workflow for Property XYZ.\"\n",
    "\t\"FirstOrderIntent\": \"Workflow\",\n",
    "\t\"SecondOrderIntent\": \"Bank account\",\n",
    "    \"Entities\": \"Property XYZ\"\n",
    "\n",
    "15. \"Initiate a contact workflow for Property XYZ.\"\n",
    "\t\"FirstOrderIntent\": \"Workflow\",\n",
    "\t\"SecondOrderIntent\": \"Contact\",\n",
    "    \"Entities\": \"Property XYZ\"\n",
    "\n",
    "16. \"Initiate a unit workflow for Property XYZ.\"\n",
    "\t\"FirstOrderIntent\": \"Workflow\",\n",
    "\t\"SecondOrderIntent\": \"Unit\",\n",
    "    \"Entities\": \"Property XYZ\"\n",
    "    \n",
    "17. \"List all owner properties in New York City.\"\n",
    "\t\"FirstOrderIntent\": \"List\",\n",
    "\t\"SecondOrderIntent\": \"Owner\",\n",
    "    \"Entities\": \"properties, New York city\"\n",
    "\n",
    "18. \"List all journal entries related to property expenses for tax reporting purposes.\"\n",
    "\t\"FirstOrderIntent\": \"List\",\n",
    "\t\"SecondOrderIntent\": \"Journal\",\n",
    "    \"Entities\": \"entries, property expenses, tax reporting purposes\"\n",
    "\n",
    "19. \"Create a new payable entry for Property XYZ.\"\n",
    "\t\"FirstOrderIntent\": \"CreateObject\",\n",
    "\t\"SecondOrderIntent\": \"Payable\",\n",
    "    \"Entities\": \"entry, Property XYZ\"\n",
    "\n",
    "20. \"Create a new listing for a beachfront property in Malibu.\"\n",
    "\t\"FirstOrderIntent\": \"CreateObject\",\n",
    "\t\"SecondOrderIntent\": \"Property\",\n",
    "    \"Entities\": \"beachfront, Malibu\"\n",
    "\n",
    "\"\"\""
   ]
  },
  {
   "cell_type": "code",
   "execution_count": 9,
   "metadata": {},
   "outputs": [],
   "source": [
    "system_message_prompt = SystemMessagePromptTemplate.from_template(template_string)\n",
    "human_template = \"statement: ```{statement}```\"\n",
    "human_message_prompt = HumanMessagePromptTemplate.from_template(human_template)\n",
    "chat_prompt = ChatPromptTemplate.from_messages([system_message_prompt, human_message_prompt])"
   ]
  },
  {
   "cell_type": "code",
   "execution_count": 10,
   "metadata": {},
   "outputs": [
    {
     "data": {
      "text/plain": [
       "ChatPromptTemplate(input_variables=['possible_intents', 'format_instructions', 'statement', 'possible_objects'], output_parser=None, partial_variables={}, messages=[SystemMessagePromptTemplate(prompt=PromptTemplate(input_variables=['format_instructions', 'possible_intents', 'possible_objects'], output_parser=None, partial_variables={}, template='You are a helpful real-state assistant that can detect the firstOrder intent, secondOrder intent and entities from the statement that is delimited by triple backticks. \\n\\nClassify the most appropriate firstOrder intent from the following list of 5 firstOrder intents: [{possible_intents}].\\n\\nAnd classify the most appropriate secondOrder intent from the following list of 15 secondOrder objects: [{possible_objects}].\\n\\nFinally, List all the entities from the same statement. Entities takes on multiple values where values are exact word/wordsform the statement.\\n\\n{format_instructions}\\n\\nHere are few sample input and output for your reference:\\n1. \"Run a AR report for Cityview towers as of today\",\\n\\t\"FirstOrderIntent\": \"Report\",\\n\\t\"SecondOrderIntent\": \"Accounts Receivable\",\\n    \"Entities\": \"Cityview towers, today\"\\n\\n2. \"List all customers in New York City\"\\n\\t\"FirstOrderIntent\": \"List\",\\n\\t\"SecondOrderIntent\": \"Customer\",\\n    \"Entities\": \"New York City\"\\n\\n3. \"What is Michael Smiths current rent\"\\n\\t\"FirstOrderIntent\": \"ReviewObject\",\\n\\t\"SecondOrderIntent\": \"Tenant\",\\n    \"Entities\": \"Michael Smith, rent\"\\n\\n4. \"What are the available units in Avella Village?\"\\n\\t\"FirstOrderIntent\": \"List\",\\n\\t\"SecondOrderIntent\": \"Units\",\\n    \"Entities\": \"Avella Village\"\\n\\n5. \"Leaking toilet unit 101 in Boardwalk by Windsor\"\\n\\t\"FirstOrderIntent\": \"Workflow\",\\n\\t\"SecondOrderIntent\": \"Maintenance\",\\n    \"Entities\": \"Leaking toilet, Unit 101, Boardwalk by Windsor\"\\n    \\n6. \"Create a new contact entry for a potential buyer interested in Property XYZ.\"\\n\\t\"FirstOrderIntent\": \"CreateObject\",\\n\\t\"SecondOrderIntent\": \"Contact\",\\n    \"Entities\": \"entry, buyer, Property XYZ\"\\n\\n7. \"Create a new customer entry for Property ABC.\"\\n\\t\"FirstOrderIntent\": \"CreateObject\",\\n\\t\"SecondOrderIntent\": \"Customer\",\\n    \"Entities\": \"entry, Property ABC\"\\n\\n8. \"Create a new journal entry for property management fees incurred in Building A.\"\\n\\t\"FirstOrderIntent\": \"CreateObject\",\\n\\t\"SecondOrderIntent\": \"Entry\",\\n    \"Entities\": \"management fees, building A\"\\n\\n9. \"Run a bank account report for Property XYZ as of today.\"\\n\\t\"FirstOrderIntent\": \"Report\",\\n\\t\"SecondOrderIntent\": \"Bank account\",\\n    \"Entities\": \"Property XYZ, today\"\\n\\n10. \"Run a bank reconciliation report for City Heights Apartments as of today.\"\\n\\t\"FirstOrderIntent\": \"Report\",\\n\\t\"SecondOrderIntent\": \"Bank reconciliation\",\\n    \"Entities\": \"City Heights Apartments, today\"\\n\\n11. \"Review the maintenance log for Property ABC to assess the repair history.\"\\n\\t\"FirstOrderIntent\": \"ReviewObject\",\\n\\t\"SecondOrderIntent\": \"Maintenance\",\\n    \"Entities\": \"property ABC, assess, repair history\"\\n    \\n12. \"Review the contact details and preferences of a potential prospect for Property ABC.\"\\n\\t\"FirstOrderIntent\": \"ReviewObject\",\\n\\t\"SecondOrderIntent\": \"Prospect\",\\n    \"Entities\": \"contact, preferences, property ABC\" \\n\\n13. \"Review the contact details for the vendor of Cityview towers.\"\\n\\t\"FirstOrderIntent\": \"ReviewObject\",\\n\\t\"SecondOrderIntent\": \"Vendor\",\\n    \"Entities\": \"contact, Cityview towers\"\\n\\n14. \"Initiate a bank account workflow for Property XYZ.\"\\n\\t\"FirstOrderIntent\": \"Workflow\",\\n\\t\"SecondOrderIntent\": \"Bank account\",\\n    \"Entities\": \"Property XYZ\"\\n\\n15. \"Initiate a contact workflow for Property XYZ.\"\\n\\t\"FirstOrderIntent\": \"Workflow\",\\n\\t\"SecondOrderIntent\": \"Contact\",\\n    \"Entities\": \"Property XYZ\"\\n\\n16. \"Initiate a unit workflow for Property XYZ.\"\\n\\t\"FirstOrderIntent\": \"Workflow\",\\n\\t\"SecondOrderIntent\": \"Unit\",\\n    \"Entities\": \"Property XYZ\"\\n    \\n17. \"List all owner properties in New York City.\"\\n\\t\"FirstOrderIntent\": \"List\",\\n\\t\"SecondOrderIntent\": \"Owner\",\\n    \"Entities\": \"properties, New York city\"\\n\\n18. \"List all journal entries related to property expenses for tax reporting purposes.\"\\n\\t\"FirstOrderIntent\": \"List\",\\n\\t\"SecondOrderIntent\": \"Journal\",\\n    \"Entities\": \"entries, property expenses, tax reporting purposes\"\\n\\n19. \"Create a new payable entry for Property XYZ.\"\\n\\t\"FirstOrderIntent\": \"CreateObject\",\\n\\t\"SecondOrderIntent\": \"Payable\",\\n    \"Entities\": \"entry, Property XYZ\"\\n\\n20. \"Create a new listing for a beachfront property in Malibu.\"\\n\\t\"FirstOrderIntent\": \"CreateObject\",\\n\\t\"SecondOrderIntent\": \"Property\",\\n    \"Entities\": \"beachfront, Malibu\"\\n\\n', template_format='f-string', validate_template=True), additional_kwargs={}), HumanMessagePromptTemplate(prompt=PromptTemplate(input_variables=['statement'], output_parser=None, partial_variables={}, template='statement: ```{statement}```', template_format='f-string', validate_template=True), additional_kwargs={})])"
      ]
     },
     "execution_count": 10,
     "metadata": {},
     "output_type": "execute_result"
    }
   ],
   "source": [
    "chat_prompt"
   ]
  },
  {
   "cell_type": "code",
   "execution_count": 11,
   "metadata": {},
   "outputs": [],
   "source": [
    "# statement = \"List all customers in New York City\"\n",
    "# messages = chat_prompt.format_prompt(\n",
    "#     possible_intents=possible_intents,\n",
    "#     possible_objects=possible_objects,\n",
    "#     format_instructions=format_instructions,\n",
    "#     statement=statement\n",
    "# ).to_messages()\n",
    "# chat = ChatOpenAI(temperature=0.0)\n",
    "# response = chat(messages)\n",
    "# output_dict = output_parser.parse(response.content)\n",
    "# output_dict"
   ]
  },
  {
   "cell_type": "code",
   "execution_count": 12,
   "metadata": {},
   "outputs": [],
   "source": [
    "def classify(statement):\n",
    "    messages = chat_prompt.format_prompt(\n",
    "        possible_intents=possible_intents,\n",
    "        possible_objects=possible_objects,\n",
    "        format_instructions=format_instructions,\n",
    "        statement=statement\n",
    "    ).to_messages()\n",
    "    chat = ChatOpenAI(temperature=0.0)\n",
    "    response = chat(messages)\n",
    "    return output_parser.parse(response.content)"
   ]
  },
  {
   "cell_type": "code",
   "execution_count": 13,
   "metadata": {},
   "outputs": [
    {
     "data": {
      "text/plain": [
       "{'FirstOrderIntent': 'ReviewObject',\n",
       " 'SecondOrderIntent': 'Tenant',\n",
       " 'Entities': 'Michael Smith, rent'}"
      ]
     },
     "execution_count": 13,
     "metadata": {},
     "output_type": "execute_result"
    }
   ],
   "source": [
    "classify(\"What is Michael Smiths current rent\")"
   ]
  },
  {
   "cell_type": "code",
   "execution_count": 14,
   "metadata": {},
   "outputs": [
    {
     "data": {
      "text/plain": [
       "{'FirstOrderIntent': 'List',\n",
       " 'SecondOrderIntent': 'Units',\n",
       " 'Entities': 'Avella Village'}"
      ]
     },
     "execution_count": 14,
     "metadata": {},
     "output_type": "execute_result"
    }
   ],
   "source": [
    "classify(\"What are the available units in Avella Village?\")"
   ]
  },
  {
   "cell_type": "code",
   "execution_count": 15,
   "metadata": {},
   "outputs": [
    {
     "data": {
      "text/plain": [
       "{'FirstOrderIntent': 'Workflow',\n",
       " 'SecondOrderIntent': 'Maintenance',\n",
       " 'Entities': 'Leaking toilet, unit 101, Boardwalk by Windsor'}"
      ]
     },
     "execution_count": 15,
     "metadata": {},
     "output_type": "execute_result"
    }
   ],
   "source": [
    "classify(\"Leaking toilet unit 101 in Boardwalk by Windsor\")"
   ]
  },
  {
   "cell_type": "code",
   "execution_count": 16,
   "metadata": {},
   "outputs": [
    {
     "data": {
      "text/plain": [
       "{'FirstOrderIntent': 'Report',\n",
       " 'SecondOrderIntent': 'Accounts Receivable',\n",
       " 'Entities': 'Cityview towers, today'}"
      ]
     },
     "execution_count": 16,
     "metadata": {},
     "output_type": "execute_result"
    }
   ],
   "source": [
    "classify(\"Run a AR report for Cityview towers as of today\")"
   ]
  },
  {
   "cell_type": "code",
   "execution_count": 17,
   "metadata": {},
   "outputs": [
    {
     "data": {
      "text/plain": [
       "{'FirstOrderIntent': 'CreateObject',\n",
       " 'SecondOrderIntent': 'Journal',\n",
       " 'Entities': 'journal entry, Cityview towers'}"
      ]
     },
     "execution_count": 17,
     "metadata": {},
     "output_type": "execute_result"
    }
   ],
   "source": [
    "classify(\"Create a new journal entry for Cityview towers.\")"
   ]
  },
  {
   "cell_type": "code",
   "execution_count": 18,
   "metadata": {},
   "outputs": [
    {
     "data": {
      "text/plain": [
       "{'FirstOrderIntent': 'CreateObject',\n",
       " 'SecondOrderIntent': 'Prospect',\n",
       " 'Entities': 'prospect profile, potential buyer, residential properties'}"
      ]
     },
     "execution_count": 18,
     "metadata": {},
     "output_type": "execute_result"
    }
   ],
   "source": [
    "classify(\"Create a new prospect profile for a potential buyer interested in residential properties.\")"
   ]
  },
  {
   "cell_type": "code",
   "execution_count": 19,
   "metadata": {},
   "outputs": [
    {
     "data": {
      "text/plain": [
       "{'FirstOrderIntent': 'List',\n",
       " 'SecondOrderIntent': 'Bank reconciliation',\n",
       " 'Entities': 'Property XYZ'}"
      ]
     },
     "execution_count": 19,
     "metadata": {},
     "output_type": "execute_result"
    }
   ],
   "source": [
    "classify(\"List all bank reconciliations for Property XYZ.\")"
   ]
  },
  {
   "cell_type": "code",
   "execution_count": 20,
   "metadata": {},
   "outputs": [
    {
     "data": {
      "text/plain": [
       "{'FirstOrderIntent': 'List',\n",
       " 'SecondOrderIntent': 'Tenant',\n",
       " 'Entities': 'Cityview Towers'}"
      ]
     },
     "execution_count": 20,
     "metadata": {},
     "output_type": "execute_result"
    }
   ],
   "source": [
    "classify(\"List all tenants residing in Cityview Towers.\")"
   ]
  },
  {
   "cell_type": "code",
   "execution_count": 21,
   "metadata": {},
   "outputs": [
    {
     "data": {
      "text/plain": [
       "{'FirstOrderIntent': 'ReviewObject',\n",
       " 'SecondOrderIntent': 'Vendor',\n",
       " 'Entities': 'vendor agreement, landscaping service provider, Cityview Towers'}"
      ]
     },
     "execution_count": 21,
     "metadata": {},
     "output_type": "execute_result"
    }
   ],
   "source": [
    "classify(\"Review the vendor agreement with the landscaping service provider for Cityview Towers.\")"
   ]
  },
  {
   "cell_type": "code",
   "execution_count": null,
   "metadata": {},
   "outputs": [],
   "source": []
  }
 ],
 "metadata": {
  "kernelspec": {
   "display_name": "venv",
   "language": "python",
   "name": "python3"
  },
  "language_info": {
   "codemirror_mode": {
    "name": "ipython",
    "version": 3
   },
   "file_extension": ".py",
   "mimetype": "text/x-python",
   "name": "python",
   "nbconvert_exporter": "python",
   "pygments_lexer": "ipython3",
   "version": "3.10.8"
  },
  "orig_nbformat": 4
 },
 "nbformat": 4,
 "nbformat_minor": 2
}
